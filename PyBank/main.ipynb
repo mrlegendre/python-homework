{
 "cells": [
  {
   "cell_type": "code",
   "execution_count": 3,
   "id": "99c09c52-49d9-4b04-91ee-261185b446bd",
   "metadata": {},
   "outputs": [
    {
     "name": "stdout",
     "output_type": "stream",
     "text": [
      "Total Number of Months: 86\n",
      "the net total amount of profit/losses over the period is: $ 38382578\n",
      "the average change in profit/loss is: 446309.0465116279\n",
      "greatest increase in profit is: 1170593\n",
      "greatest decrease in losses is: -1196225\n"
     ]
    }
   ],
   "source": [
    "\n",
    "import csv\n",
    "from pathlib import Path\n",
    "\n",
    "\n",
    "csvpath = Path(\"C:/Users/owner/Desktop/git/Module2/budget_data.csv\")\n",
    "\n",
    "#Initialize an empty menu list\n",
    "# menu = [] this is for PyRamen\n",
    "\n",
    "\n",
    "#initialize variables\n",
    "count = 0\n",
    "net = 0 \n",
    "average = 0\n",
    "\n",
    "\n",
    "increase = 0\n",
    "decrease = 0\n",
    "\n",
    "\n",
    "#Use a with statement and open the budget_data.csv by using its file path.\n",
    "with open(csvpath, \"r\") as csvfile:\n",
    "    \n",
    "    #Use the reader function from the csv library to begin reading budget_data.csv.\n",
    "    csvreader = csv.reader(csvfile, delimiter=\",\")\n",
    "    \n",
    "    #Use the next function to skip the header (first row of the CSV).\n",
    "    csv_header = next(csvreader)\n",
    "    \n",
    "   \n",
    "    data = []\n",
    "    output = []\n",
    "    #Loop over the rest of the rows and append every row to the menu list object (the outcome will be a list of lists).\n",
    "    for row in csvreader:\n",
    "        count += 1\n",
    "        net += int(row[1])\n",
    "        \n",
    "        #make separate list to calculate the increase/decrease from month to month\n",
    "        budget = int(row[1])\n",
    "        row.append(budget) \n",
    "        #print(budget)\n",
    "        \n",
    "        #Logic to determine greatest increase/decrease\n",
    "        if decrease == 0:\n",
    "            decrease = budget\n",
    "        elif budget < decrease:\n",
    "            decrease = budget\n",
    "        elif budget > increase:\n",
    "            increase = budget\n",
    "            \n",
    "print(f\"Total Number of Months: {count}\")\n",
    "print(f\"the net total amount of profit/losses over the period is: $ {net}\")\n",
    "\n",
    "average = net/count\n",
    "print(f\"the average change in profit/loss is: {average}\")\n",
    "\n",
    "print(f\"greatest increase in profit is: {increase}\")\n",
    "print(f\"greatest decrease in losses is: {decrease}\")\n"
   ]
  }
 ],
 "metadata": {
  "kernelspec": {
   "display_name": "Python 3 (ipykernel)",
   "language": "python",
   "name": "python3"
  },
  "language_info": {
   "codemirror_mode": {
    "name": "ipython",
    "version": 3
   },
   "file_extension": ".py",
   "mimetype": "text/x-python",
   "name": "python",
   "nbconvert_exporter": "python",
   "pygments_lexer": "ipython3",
   "version": "3.7.11"
  }
 },
 "nbformat": 4,
 "nbformat_minor": 5
}
